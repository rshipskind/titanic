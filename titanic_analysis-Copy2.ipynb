{
 "cells": [
  {
   "cell_type": "code",
   "execution_count": 1,
   "metadata": {
    "collapsed": true
   },
   "outputs": [],
   "source": [
    "import numpy as np\n",
    "import pandas as pd\n",
    "import csv as csv\n",
    "from sklearn.ensemble import RandomForestClassifier"
   ]
  },
  {
   "cell_type": "code",
   "execution_count": 2,
   "metadata": {
    "collapsed": true
   },
   "outputs": [],
   "source": [
    "# reads in train and test data sets\n",
    "\n",
    "train_set = pd.read_csv('train.csv')\n",
    "test_set = pd.read_csv('test.csv')"
   ]
  },
  {
   "cell_type": "code",
   "execution_count": 3,
   "metadata": {
    "collapsed": false
   },
   "outputs": [
    {
     "name": "stderr",
     "output_type": "stream",
     "text": [
      "//anaconda/lib/python3.4/site-packages/IPython/kernel/__main__.py:4: SettingWithCopyWarning: \n",
      "A value is trying to be set on a copy of a slice from a DataFrame\n",
      "\n",
      "See the the caveats in the documentation: http://pandas.pydata.org/pandas-docs/stable/indexing.html#indexing-view-versus-copy\n",
      "//anaconda/lib/python3.4/site-packages/IPython/kernel/__main__.py:7: SettingWithCopyWarning: \n",
      "A value is trying to be set on a copy of a slice from a DataFrame\n",
      "\n",
      "See the the caveats in the documentation: http://pandas.pydata.org/pandas-docs/stable/indexing.html#indexing-view-versus-copy\n"
     ]
    }
   ],
   "source": [
    "# remaps strings to ints\n",
    "\n",
    "train_set['Sex'] = train_set['Sex'].map({'female': 0, 'male': 1}).astype(int)\n",
    "train_set['Embarked'][train_set['Embarked'].isnull()] = 'S'\n",
    "train_set['Embarked'] = train_set['Embarked'].map({'S': 0, 'C': 1, 'Q': 2}).astype(int)\n",
    "test_set['Sex'] = test_set['Sex'].map({'female': 0, 'male': 1}).astype(int)\n",
    "test_set['Embarked'][test_set['Embarked'].isnull()] = 'S'\n",
    "test_set['Embarked'] = test_set['Embarked'].map({'S': 0, 'C': 1, 'Q': 2}).astype(int)"
   ]
  },
  {
   "cell_type": "code",
   "execution_count": 4,
   "metadata": {
    "collapsed": true
   },
   "outputs": [],
   "source": [
    "# fills missing Age values\n",
    "\n",
    "median_ages = np.zeros((2,3))\n",
    "for i in range(0, 2):\n",
    "    for j in range(0, 3):\n",
    "        median_ages[i,j] = train_set[(train_set['Sex'] == i) & \\\n",
    "                              (train_set['Pclass'] == j+1)]['Age'].dropna().median()\n",
    "train_set['AgeFill'] = train_set['Age']\n",
    "for i in range(0, 2):\n",
    "    for j in range(0, 3):\n",
    "        train_set.loc[ (train_set.Age.isnull()) & (train_set.Sex == i) & (train_set.Pclass == j+1),\\\n",
    "                'AgeFill'] = median_ages[i,j]\n",
    "train_set['FamilySize'] = train_set['SibSp'] + train_set['Parch']\n",
    "\n",
    "median_ages = np.zeros((2,3))\n",
    "for i in range(0, 2):\n",
    "    for j in range(0, 3):\n",
    "        median_ages[i,j] = test_set[(test_set['Sex'] == i) & \\\n",
    "                              (test_set['Pclass'] == j+1)]['Age'].dropna().median()\n",
    "test_set['AgeFill'] = test_set['Age']\n",
    "for i in range(0, 2):\n",
    "    for j in range(0, 3):\n",
    "        test_set.loc[ (test_set.Age.isnull()) & (test_set.Sex == i) & (test_set.Pclass == j+1),\\\n",
    "                'AgeFill'] = median_ages[i,j]\n",
    "        \n",
    "# creates Family Size feature\n",
    "test_set['FamilySize'] = test_set['SibSp'] + test_set['Parch']"
   ]
  },
  {
   "cell_type": "code",
   "execution_count": 5,
   "metadata": {
    "collapsed": false
   },
   "outputs": [],
   "source": [
    "# sets Fare == 0 to mean of Pclass Fares\n",
    "\n",
    "mean_fare = np.zeros((3))\n",
    "for i in range(0, 3):\n",
    "    mean_fare[i] = train_set[(train_set['Pclass'] == i + 1)]['Fare'].dropna().mean()\n",
    "for i in range(0, 3):\n",
    "    train_set.loc[(train_set.Fare == 0) & (train_set.Pclass == i + 1), 'Fare'] = mean_fare[i]\n",
    "for i in range(0, 3):\n",
    "    mean_fare[i] = test_set[(test_set['Pclass'] == i + 1)]['Fare'].dropna().mean()\n",
    "for i in range(0, 3):\n",
    "    test_set.loc[(test_set.Fare == 0) & (test_set.Pclass == i + 1), 'Fare'] = mean_fare[i]"
   ]
  },
  {
   "cell_type": "code",
   "execution_count": 6,
   "metadata": {
    "collapsed": true
   },
   "outputs": [],
   "source": [
    "# sets missing Fare values\n",
    "\n",
    "for i in range(0, 3):\n",
    "    train_set.loc[(train_set.Fare.isnull()), 'Fare'] = mean_fare[i]\n",
    "for i in range(0, 3):\n",
    "    test_set.loc[(test_set.Fare.isnull()), 'Fare'] = mean_fare[i]"
   ]
  },
  {
   "cell_type": "code",
   "execution_count": 7,
   "metadata": {
    "collapsed": false
   },
   "outputs": [
    {
     "name": "stderr",
     "output_type": "stream",
     "text": [
      "//anaconda/lib/python3.4/site-packages/IPython/kernel/__main__.py:4: SettingWithCopyWarning: \n",
      "A value is trying to be set on a copy of a slice from a DataFrame\n",
      "\n",
      "See the the caveats in the documentation: http://pandas.pydata.org/pandas-docs/stable/indexing.html#indexing-view-versus-copy\n",
      "//anaconda/lib/python3.4/site-packages/IPython/kernel/__main__.py:6: SettingWithCopyWarning: \n",
      "A value is trying to be set on a copy of a slice from a DataFrame\n",
      "\n",
      "See the the caveats in the documentation: http://pandas.pydata.org/pandas-docs/stable/indexing.html#indexing-view-versus-copy\n",
      "//anaconda/lib/python3.4/site-packages/IPython/kernel/__main__.py:9: SettingWithCopyWarning: \n",
      "A value is trying to be set on a copy of a slice from a DataFrame\n",
      "\n",
      "See the the caveats in the documentation: http://pandas.pydata.org/pandas-docs/stable/indexing.html#indexing-view-versus-copy\n",
      "//anaconda/lib/python3.4/site-packages/IPython/kernel/__main__.py:11: SettingWithCopyWarning: \n",
      "A value is trying to be set on a copy of a slice from a DataFrame\n",
      "\n",
      "See the the caveats in the documentation: http://pandas.pydata.org/pandas-docs/stable/indexing.html#indexing-view-versus-copy\n"
     ]
    }
   ],
   "source": [
    "# converts Cabin to Deck as int\n",
    "\n",
    "train_set['Deck'] = train_set['Cabin']\n",
    "train_set['Deck'][train_set['Deck'].isnull()] = 'G'\n",
    "for i in range(0,len(train_set['Deck'])):\n",
    "    train_set['Deck'][i] = ord(train_set['Deck'][i][0]) - ord('A')\n",
    "\n",
    "test_set['Deck'] = test_set['Cabin']\n",
    "test_set['Deck'][test_set['Deck'].isnull()] = 'G'\n",
    "for i in range(0,len(test_set['Deck'])):\n",
    "    test_set['Deck'][i] = ord(test_set['Deck'][i][0]) - ord('A')"
   ]
  },
  {
   "cell_type": "code",
   "execution_count": 8,
   "metadata": {
    "collapsed": true
   },
   "outputs": [],
   "source": [
    "# Sets missing value Deck to mean of Pclass Deck.\n",
    "\n",
    "mean_deck = np.zeros((3))\n",
    "for i in range(0, 3):\n",
    "    mean_deck[i] = train_set[(train_set['Pclass'] == i + 1) & (train_set['Deck'] != 6)]['Deck'].dropna().mean()\n",
    "mean_deck = mean_deck.round()\n",
    "for i in range(0, 3):\n",
    "    train_set.loc[(train_set.Deck == 6) & (train_set.Pclass == i + 1), 'Deck'] = mean_deck[i]\n",
    "for i in range(0, 3):\n",
    "    mean_deck[i] = test_set[(test_set['Pclass'] == i + 1) & (test_set['Deck'] != 6)]['Deck'].dropna().mean()\n",
    "mean_deck = mean_deck.round()\n",
    "for i in range(0, 3):\n",
    "    test_set.loc[(test_set.Deck == 6) & (test_set.Pclass == i + 1), 'Deck'] = mean_deck[i]"
   ]
  },
  {
   "cell_type": "code",
   "execution_count": 9,
   "metadata": {
    "collapsed": false
   },
   "outputs": [],
   "source": [
    "# pulls Title from Name\n",
    "\n",
    "train_set['Title'] = train_set['Name']\n",
    "rows = len(train_set)\n",
    "for i in range(0, rows):\n",
    "    start = train_set['Name'][i].find(', ') + 2\n",
    "    end = train_set['Name'][i].find('.')\n",
    "    train_set.loc[[i], 'Title'] = train_set['Name'][i][start:end]\n",
    "\n",
    "test_set['Title'] = test_set['Name']\n",
    "rows = len(test_set)\n",
    "for i in range(0, rows):\n",
    "    start = test_set['Name'][i].find(', ') + 2\n",
    "    end = test_set['Name'][i].find('.')\n",
    "    test_set.loc[[i], 'Title'] = test_set['Name'][i][start:end]\n",
    "    \n",
    "train_set['Title'] = train_set['Title'].map({'Mr':0, 'Miss':1, 'Mrs':2, 'Master':3, 'Dr':4, \n",
    "                                             'Rev':5, 'Major':6, 'Mlle':1, 'Col':6, \n",
    "                                             'Jonkheer':3, 'Sir': 6, 'Mme': 2, \n",
    "                                             'the Countess': 7, 'Don': 6, 'Ms': 1, \n",
    "                                             'Lady': 7, 'Capt': 6, 'Dona': 7}).astype(int)\n",
    "test_set['Title'] = test_set['Title'].map({'Mr':0, 'Miss':1, 'Mrs':2, 'Master':3, 'Dr':4, \n",
    "                                             'Rev':5, 'Major':6, 'Mlle':1, 'Col':6, \n",
    "                                             'Jonkheer':3, 'Sir': 6, 'Mme': 2, \n",
    "                                             'the Countess': 7, 'Don': 6, 'Ms': 1, \n",
    "                                             'Lady': 7, 'Capt': 6, 'Dona': 7}).astype(int)"
   ]
  },
  {
   "cell_type": "code",
   "execution_count": 10,
   "metadata": {
    "collapsed": false
   },
   "outputs": [
    {
     "data": {
      "text/html": [
       "<div style=\"max-height:1000px;max-width:1500px;overflow:auto;\">\n",
       "<table border=\"1\" class=\"dataframe\">\n",
       "  <thead>\n",
       "    <tr style=\"text-align: right;\">\n",
       "      <th></th>\n",
       "      <th>PassengerId</th>\n",
       "      <th>Survived</th>\n",
       "      <th>Pclass</th>\n",
       "      <th>Sex</th>\n",
       "      <th>Age</th>\n",
       "      <th>SibSp</th>\n",
       "      <th>Parch</th>\n",
       "      <th>Fare</th>\n",
       "      <th>Embarked</th>\n",
       "      <th>AgeFill</th>\n",
       "      <th>FamilySize</th>\n",
       "      <th>Title</th>\n",
       "    </tr>\n",
       "  </thead>\n",
       "  <tbody>\n",
       "    <tr>\n",
       "      <th>count</th>\n",
       "      <td> 891.000000</td>\n",
       "      <td> 891.000000</td>\n",
       "      <td> 891.000000</td>\n",
       "      <td> 891.000000</td>\n",
       "      <td> 714.000000</td>\n",
       "      <td> 891.000000</td>\n",
       "      <td> 891.000000</td>\n",
       "      <td> 891.000000</td>\n",
       "      <td> 891.000000</td>\n",
       "      <td> 891.000000</td>\n",
       "      <td> 891.000000</td>\n",
       "      <td> 891.000000</td>\n",
       "    </tr>\n",
       "    <tr>\n",
       "      <th>mean</th>\n",
       "      <td> 446.000000</td>\n",
       "      <td>   0.383838</td>\n",
       "      <td>   2.308642</td>\n",
       "      <td>   0.647587</td>\n",
       "      <td>  29.699118</td>\n",
       "      <td>   0.523008</td>\n",
       "      <td>   0.381594</td>\n",
       "      <td>  32.876990</td>\n",
       "      <td>   0.361392</td>\n",
       "      <td>  29.112424</td>\n",
       "      <td>   0.904602</td>\n",
       "      <td>   0.756453</td>\n",
       "    </tr>\n",
       "    <tr>\n",
       "      <th>std</th>\n",
       "      <td> 257.353842</td>\n",
       "      <td>   0.486592</td>\n",
       "      <td>   0.836071</td>\n",
       "      <td>   0.477990</td>\n",
       "      <td>  14.526497</td>\n",
       "      <td>   1.102743</td>\n",
       "      <td>   0.806057</td>\n",
       "      <td>  49.690114</td>\n",
       "      <td>   0.635673</td>\n",
       "      <td>  13.304424</td>\n",
       "      <td>   1.613459</td>\n",
       "      <td>   1.141727</td>\n",
       "    </tr>\n",
       "    <tr>\n",
       "      <th>min</th>\n",
       "      <td>   1.000000</td>\n",
       "      <td>   0.000000</td>\n",
       "      <td>   1.000000</td>\n",
       "      <td>   0.000000</td>\n",
       "      <td>   0.420000</td>\n",
       "      <td>   0.000000</td>\n",
       "      <td>   0.000000</td>\n",
       "      <td>   4.012500</td>\n",
       "      <td>   0.000000</td>\n",
       "      <td>   0.420000</td>\n",
       "      <td>   0.000000</td>\n",
       "      <td>   0.000000</td>\n",
       "    </tr>\n",
       "    <tr>\n",
       "      <th>25%</th>\n",
       "      <td> 223.500000</td>\n",
       "      <td>   0.000000</td>\n",
       "      <td>   2.000000</td>\n",
       "      <td>   0.000000</td>\n",
       "      <td>  20.125000</td>\n",
       "      <td>   0.000000</td>\n",
       "      <td>   0.000000</td>\n",
       "      <td>   7.925000</td>\n",
       "      <td>   0.000000</td>\n",
       "      <td>  21.500000</td>\n",
       "      <td>   0.000000</td>\n",
       "      <td>   0.000000</td>\n",
       "    </tr>\n",
       "    <tr>\n",
       "      <th>50%</th>\n",
       "      <td> 446.000000</td>\n",
       "      <td>   0.000000</td>\n",
       "      <td>   3.000000</td>\n",
       "      <td>   1.000000</td>\n",
       "      <td>  28.000000</td>\n",
       "      <td>   0.000000</td>\n",
       "      <td>   0.000000</td>\n",
       "      <td>  14.500000</td>\n",
       "      <td>   0.000000</td>\n",
       "      <td>  26.000000</td>\n",
       "      <td>   0.000000</td>\n",
       "      <td>   0.000000</td>\n",
       "    </tr>\n",
       "    <tr>\n",
       "      <th>75%</th>\n",
       "      <td> 668.500000</td>\n",
       "      <td>   1.000000</td>\n",
       "      <td>   3.000000</td>\n",
       "      <td>   1.000000</td>\n",
       "      <td>  38.000000</td>\n",
       "      <td>   1.000000</td>\n",
       "      <td>   0.000000</td>\n",
       "      <td>  31.275000</td>\n",
       "      <td>   1.000000</td>\n",
       "      <td>  36.000000</td>\n",
       "      <td>   1.000000</td>\n",
       "      <td>   1.000000</td>\n",
       "    </tr>\n",
       "    <tr>\n",
       "      <th>max</th>\n",
       "      <td> 891.000000</td>\n",
       "      <td>   1.000000</td>\n",
       "      <td>   3.000000</td>\n",
       "      <td>   1.000000</td>\n",
       "      <td>  80.000000</td>\n",
       "      <td>   8.000000</td>\n",
       "      <td>   6.000000</td>\n",
       "      <td> 512.329200</td>\n",
       "      <td>   2.000000</td>\n",
       "      <td>  80.000000</td>\n",
       "      <td>  10.000000</td>\n",
       "      <td>   7.000000</td>\n",
       "    </tr>\n",
       "  </tbody>\n",
       "</table>\n",
       "</div>"
      ],
      "text/plain": [
       "       PassengerId    Survived      Pclass         Sex         Age  \\\n",
       "count   891.000000  891.000000  891.000000  891.000000  714.000000   \n",
       "mean    446.000000    0.383838    2.308642    0.647587   29.699118   \n",
       "std     257.353842    0.486592    0.836071    0.477990   14.526497   \n",
       "min       1.000000    0.000000    1.000000    0.000000    0.420000   \n",
       "25%     223.500000    0.000000    2.000000    0.000000   20.125000   \n",
       "50%     446.000000    0.000000    3.000000    1.000000   28.000000   \n",
       "75%     668.500000    1.000000    3.000000    1.000000   38.000000   \n",
       "max     891.000000    1.000000    3.000000    1.000000   80.000000   \n",
       "\n",
       "            SibSp       Parch        Fare    Embarked     AgeFill  FamilySize  \\\n",
       "count  891.000000  891.000000  891.000000  891.000000  891.000000  891.000000   \n",
       "mean     0.523008    0.381594   32.876990    0.361392   29.112424    0.904602   \n",
       "std      1.102743    0.806057   49.690114    0.635673   13.304424    1.613459   \n",
       "min      0.000000    0.000000    4.012500    0.000000    0.420000    0.000000   \n",
       "25%      0.000000    0.000000    7.925000    0.000000   21.500000    0.000000   \n",
       "50%      0.000000    0.000000   14.500000    0.000000   26.000000    0.000000   \n",
       "75%      1.000000    0.000000   31.275000    1.000000   36.000000    1.000000   \n",
       "max      8.000000    6.000000  512.329200    2.000000   80.000000   10.000000   \n",
       "\n",
       "            Title  \n",
       "count  891.000000  \n",
       "mean     0.756453  \n",
       "std      1.141727  \n",
       "min      0.000000  \n",
       "25%      0.000000  \n",
       "50%      0.000000  \n",
       "75%      1.000000  \n",
       "max      7.000000  "
      ]
     },
     "execution_count": 10,
     "metadata": {},
     "output_type": "execute_result"
    }
   ],
   "source": [
    "train_set.describe()"
   ]
  },
  {
   "cell_type": "code",
   "execution_count": null,
   "metadata": {
    "collapsed": true
   },
   "outputs": [],
   "source": []
  }
 ],
 "metadata": {
  "kernelspec": {
   "display_name": "Python 3",
   "language": "python",
   "name": "python3"
  },
  "language_info": {
   "codemirror_mode": {
    "name": "ipython",
    "version": 3
   },
   "file_extension": ".py",
   "mimetype": "text/x-python",
   "name": "python",
   "nbconvert_exporter": "python",
   "pygments_lexer": "ipython3",
   "version": "3.4.3"
  }
 },
 "nbformat": 4,
 "nbformat_minor": 0
}
