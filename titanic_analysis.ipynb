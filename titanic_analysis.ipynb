{
 "cells": [
  {
   "cell_type": "code",
   "execution_count": 21,
   "metadata": {
    "collapsed": true
   },
   "outputs": [],
   "source": [
    "import numpy as np\n",
    "import pandas as pd\n",
    "import csv as csv\n",
    "from sklearn.ensemble import RandomForestClassifier"
   ]
  },
  {
   "cell_type": "code",
   "execution_count": 22,
   "metadata": {
    "collapsed": true
   },
   "outputs": [],
   "source": [
    "# reads in train and test data sets\n",
    "\n",
    "train_set = pd.read_csv('train.csv')\n",
    "test_set = pd.read_csv('test.csv')"
   ]
  },
  {
   "cell_type": "code",
   "execution_count": 23,
   "metadata": {
    "collapsed": false
   },
   "outputs": [
    {
     "name": "stderr",
     "output_type": "stream",
     "text": [
      "//anaconda/lib/python3.4/site-packages/IPython/kernel/__main__.py:4: SettingWithCopyWarning: \n",
      "A value is trying to be set on a copy of a slice from a DataFrame\n",
      "\n",
      "See the the caveats in the documentation: http://pandas.pydata.org/pandas-docs/stable/indexing.html#indexing-view-versus-copy\n",
      "//anaconda/lib/python3.4/site-packages/IPython/kernel/__main__.py:7: SettingWithCopyWarning: \n",
      "A value is trying to be set on a copy of a slice from a DataFrame\n",
      "\n",
      "See the the caveats in the documentation: http://pandas.pydata.org/pandas-docs/stable/indexing.html#indexing-view-versus-copy\n"
     ]
    }
   ],
   "source": [
    "# remaps strings to ints\n",
    "\n",
    "train_set['Sex'] = train_set['Sex'].map({'female': 0, 'male': 1}).astype(int)\n",
    "train_set['Embarked'][train_set['Embarked'].isnull()] = 'S'\n",
    "train_set['Embarked'] = train_set['Embarked'].map({'S': 0, 'C': 1, 'Q': 2}).astype(int)\n",
    "test_set['Sex'] = test_set['Sex'].map({'female': 0, 'male': 1}).astype(int)\n",
    "test_set['Embarked'][test_set['Embarked'].isnull()] = 'S'\n",
    "test_set['Embarked'] = test_set['Embarked'].map({'S': 0, 'C': 1, 'Q': 2}).astype(int)"
   ]
  },
  {
   "cell_type": "code",
   "execution_count": 24,
   "metadata": {
    "collapsed": true
   },
   "outputs": [],
   "source": [
    "# fills missing Age values\n",
    "\n",
    "median_ages = np.zeros((2,3))\n",
    "for i in range(0, 2):\n",
    "    for j in range(0, 3):\n",
    "        median_ages[i,j] = train_set[(train_set['Sex'] == i) & \\\n",
    "                              (train_set['Pclass'] == j+1)]['Age'].dropna().median()\n",
    "train_set['AgeFill'] = train_set['Age']\n",
    "for i in range(0, 2):\n",
    "    for j in range(0, 3):\n",
    "        train_set.loc[ (train_set.Age.isnull()) & (train_set.Sex == i) & (train_set.Pclass == j+1),\\\n",
    "                'AgeFill'] = median_ages[i,j]\n",
    "train_set['FamilySize'] = train_set['SibSp'] + train_set['Parch']\n",
    "\n",
    "median_ages = np.zeros((2,3))\n",
    "for i in range(0, 2):\n",
    "    for j in range(0, 3):\n",
    "        median_ages[i,j] = test_set[(test_set['Sex'] == i) & \\\n",
    "                              (test_set['Pclass'] == j+1)]['Age'].dropna().median()\n",
    "test_set['AgeFill'] = test_set['Age']\n",
    "for i in range(0, 2):\n",
    "    for j in range(0, 3):\n",
    "        test_set.loc[ (test_set.Age.isnull()) & (test_set.Sex == i) & (test_set.Pclass == j+1),\\\n",
    "                'AgeFill'] = median_ages[i,j]\n",
    "        \n",
    "# creates Family Size feature\n",
    "test_set['FamilySize'] = test_set['SibSp'] + test_set['Parch']"
   ]
  },
  {
   "cell_type": "code",
   "execution_count": 25,
   "metadata": {
    "collapsed": false
   },
   "outputs": [],
   "source": [
    "# sets Fare == 0 to mean of Pclass Fares\n",
    "\n",
    "mean_fare = np.zeros((3))\n",
    "for i in range(0, 3):\n",
    "    mean_fare[i] = train_set[(train_set['Pclass'] == i + 1)]['Fare'].dropna().mean()\n",
    "for i in range(0, 3):\n",
    "    train_set.loc[(train_set.Fare == 0) & (train_set.Pclass == i + 1), 'Fare'] = mean_fare[i]\n",
    "for i in range(0, 3):\n",
    "    mean_fare[i] = test_set[(test_set['Pclass'] == i + 1)]['Fare'].dropna().mean()\n",
    "for i in range(0, 3):\n",
    "    test_set.loc[(test_set.Fare == 0) & (test_set.Pclass == i + 1), 'Fare'] = mean_fare[i]"
   ]
  },
  {
   "cell_type": "code",
   "execution_count": 26,
   "metadata": {
    "collapsed": true
   },
   "outputs": [],
   "source": [
    "# sets missing Fare values\n",
    "\n",
    "for i in range(0, 3):\n",
    "    train_set.loc[(train_set.Fare.isnull()), 'Fare'] = mean_fare[i]\n",
    "for i in range(0, 3):\n",
    "    test_set.loc[(test_set.Fare.isnull()), 'Fare'] = mean_fare[i]"
   ]
  },
  {
   "cell_type": "code",
   "execution_count": 27,
   "metadata": {
    "collapsed": false
   },
   "outputs": [
    {
     "name": "stderr",
     "output_type": "stream",
     "text": [
      "//anaconda/lib/python3.4/site-packages/IPython/kernel/__main__.py:4: SettingWithCopyWarning: \n",
      "A value is trying to be set on a copy of a slice from a DataFrame\n",
      "\n",
      "See the the caveats in the documentation: http://pandas.pydata.org/pandas-docs/stable/indexing.html#indexing-view-versus-copy\n",
      "//anaconda/lib/python3.4/site-packages/IPython/kernel/__main__.py:6: SettingWithCopyWarning: \n",
      "A value is trying to be set on a copy of a slice from a DataFrame\n",
      "\n",
      "See the the caveats in the documentation: http://pandas.pydata.org/pandas-docs/stable/indexing.html#indexing-view-versus-copy\n",
      "//anaconda/lib/python3.4/site-packages/IPython/kernel/__main__.py:9: SettingWithCopyWarning: \n",
      "A value is trying to be set on a copy of a slice from a DataFrame\n",
      "\n",
      "See the the caveats in the documentation: http://pandas.pydata.org/pandas-docs/stable/indexing.html#indexing-view-versus-copy\n",
      "//anaconda/lib/python3.4/site-packages/IPython/kernel/__main__.py:11: SettingWithCopyWarning: \n",
      "A value is trying to be set on a copy of a slice from a DataFrame\n",
      "\n",
      "See the the caveats in the documentation: http://pandas.pydata.org/pandas-docs/stable/indexing.html#indexing-view-versus-copy\n"
     ]
    }
   ],
   "source": [
    "# converts Cabin to Deck as int\n",
    "\n",
    "train_set['Deck'] = train_set['Cabin']\n",
    "train_set['Deck'][train_set['Deck'].isnull()] = 'G'\n",
    "for i in range(0,len(train_set['Deck'])):\n",
    "    train_set['Deck'][i] = ord(train_set['Deck'][i][0]) - ord('A')\n",
    "\n",
    "test_set['Deck'] = test_set['Cabin']\n",
    "test_set['Deck'][test_set['Deck'].isnull()] = 'G'\n",
    "for i in range(0,len(test_set['Deck'])):\n",
    "    test_set['Deck'][i] = ord(test_set['Deck'][i][0]) - ord('A')"
   ]
  },
  {
   "cell_type": "code",
   "execution_count": 28,
   "metadata": {
    "collapsed": true
   },
   "outputs": [],
   "source": [
    "# Sets missing value Deck to mean of Pclass Deck.\n",
    "\n",
    "mean_deck = np.zeros((3))\n",
    "for i in range(0, 3):\n",
    "    mean_deck[i] = train_set[(train_set['Pclass'] == i + 1) & (train_set['Deck'] != 6)]['Deck'].dropna().mean()\n",
    "mean_deck = mean_deck.round()\n",
    "for i in range(0, 3):\n",
    "    train_set.loc[(train_set.Deck == 6) & (train_set.Pclass == i + 1), 'Deck'] = mean_deck[i]\n",
    "for i in range(0, 3):\n",
    "    mean_deck[i] = test_set[(test_set['Pclass'] == i + 1) & (test_set['Deck'] != 6)]['Deck'].dropna().mean()\n",
    "mean_deck = mean_deck.round()\n",
    "for i in range(0, 3):\n",
    "    test_set.loc[(test_set.Deck == 6) & (test_set.Pclass == i + 1), 'Deck'] = mean_deck[i]"
   ]
  },
  {
   "cell_type": "code",
   "execution_count": 29,
   "metadata": {
    "collapsed": false
   },
   "outputs": [],
   "source": [
    "# pulls Title from Name\n",
    "\n",
    "train_set['Title'] = train_set['Name']\n",
    "rows = len(train_set)\n",
    "for i in range(0, rows):\n",
    "    start = train_set['Name'][i].find(', ') + 2\n",
    "    end = train_set['Name'][i].find('.')\n",
    "    train_set.loc[[i], 'Title'] = train_set['Name'][i][start:end]\n",
    "\n",
    "test_set['Title'] = test_set['Name']\n",
    "rows = len(test_set)\n",
    "for i in range(0, rows):\n",
    "    start = test_set['Name'][i].find(', ') + 2\n",
    "    end = test_set['Name'][i].find('.')\n",
    "    test_set.loc[[i], 'Title'] = test_set['Name'][i][start:end]\n",
    "    \n",
    "train_set['Title'] = train_set['Title'].map({'Mr':0, 'Miss':1, 'Mrs':2, 'Master':3, 'Dr':4, \n",
    "                                             'Rev':5, 'Major':6, 'Mlle':7, 'Col':8, \n",
    "                                             'Jonkheer':9, 'Sir': 10, 'Mme': 11, \n",
    "                                             'the Countess': 12, 'Don': 13, 'Ms': 1, \n",
    "                                             'Lady': 15, 'Capt': 16, 'Dona': 17}).astype(int)\n",
    "test_set['Title'] = test_set['Title'].map({'Mr':0, 'Miss':1, 'Mrs':2, 'Master':3, 'Dr':4, \n",
    "                                             'Rev':5, 'Major':6, 'Mlle':7, 'Col':8, \n",
    "                                             'Jonkheer':9, 'Sir': 10, 'Mme': 11, \n",
    "                                             'the Countess': 12, 'Don': 13, 'Ms': 1, \n",
    "                                             'Lady': 15, 'Capt': 16, 'Dona': 17}).astype(int)"
   ]
  },
  {
   "cell_type": "code",
   "execution_count": 30,
   "metadata": {
    "collapsed": false
   },
   "outputs": [],
   "source": [
    "ids = test_set['PassengerId'].values\n",
    "train_set = train_set.drop(['Name', 'Ticket', 'Cabin', 'Age', 'PassengerId'], axis = 1)\n",
    "test_set = test_set.drop(['Name', 'Ticket', 'Cabin', 'Age', 'PassengerId'], axis = 1)"
   ]
  },
  {
   "cell_type": "code",
   "execution_count": 31,
   "metadata": {
    "collapsed": true
   },
   "outputs": [],
   "source": [
    "train_data = train_set.values\n",
    "test_data = test_set.values"
   ]
  },
  {
   "cell_type": "code",
   "execution_count": 32,
   "metadata": {
    "collapsed": false
   },
   "outputs": [],
   "source": [
    "forest = RandomForestClassifier(n_estimators=1000)\n",
    "forest = forest.fit(train_data[0::,1::], train_data[0::,0])"
   ]
  },
  {
   "cell_type": "code",
   "execution_count": 33,
   "metadata": {
    "collapsed": false
   },
   "outputs": [],
   "source": [
    "output = forest.predict(test_data).astype(int)"
   ]
  },
  {
   "cell_type": "code",
   "execution_count": 34,
   "metadata": {
    "collapsed": false
   },
   "outputs": [],
   "source": [
    "predictions_file = open(\"titanic_forest.csv\", \"w\")\n",
    "open_file_object = csv.writer(predictions_file)\n",
    "open_file_object.writerow(['PassengerId', 'Survived'])\n",
    "open_file_object.writerows(zip(ids, output))\n",
    "predictions_file.close()"
   ]
  }
 ],
 "metadata": {
  "kernelspec": {
   "display_name": "Python 3",
   "language": "python",
   "name": "python3"
  },
  "language_info": {
   "codemirror_mode": {
    "name": "ipython",
    "version": 3
   },
   "file_extension": ".py",
   "mimetype": "text/x-python",
   "name": "python",
   "nbconvert_exporter": "python",
   "pygments_lexer": "ipython3",
   "version": "3.4.3"
  }
 },
 "nbformat": 4,
 "nbformat_minor": 0
}
